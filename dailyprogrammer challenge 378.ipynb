{
 "cells": [
  {
   "cell_type": "markdown",
   "metadata": {},
   "source": [
    "Optional Warmup 1: eliminating 0's.\n",
    "\n",
    "Given a sequence of answers, return the same set of answers with all the 0's removed."
   ]
  },
  {
   "cell_type": "code",
   "execution_count": 6,
   "metadata": {},
   "outputs": [],
   "source": [
    "def warmup1(lst):\n",
    "    \"\"\"\n",
    "    (list of positive int) -> (list of positive int)\n",
    "    \n",
    "    Given a list lst, get a new list with all the 0's removed. \n",
    "    \n",
    "    warmup1([5, 3, 0, 2, 6, 2, 0, 7, 2, 5]) => [5, 3, 2, 6, 2, 7, 2, 5]\n",
    "    warmup1([4, 0, 0, 1, 3]) => [4, 1, 3]\n",
    "    warmup1([1, 2, 3]) => [1, 2, 3]\n",
    "    warmup1([0, 0, 0]) => []\n",
    "    warmup1([]) => []\n",
    "    \"\"\"\n",
    "    \n",
    "    new_list = []\n",
    "    for i in lst:\n",
    "        if i > 0:\n",
    "            new_list.append(i)\n",
    "    return new_list\n",
    "    "
   ]
  },
  {
   "cell_type": "code",
   "execution_count": null,
   "metadata": {},
   "outputs": [],
   "source": []
  },
  {
   "cell_type": "markdown",
   "metadata": {},
   "source": [
    "Optional Warmup 2: descending sort\n",
    "\n",
    "Given a sequence of answers, return the sequence sorted in descending order, so that the first number is the largest and the last number is the smallest."
   ]
  },
  {
   "cell_type": "code",
   "execution_count": 13,
   "metadata": {},
   "outputs": [],
   "source": [
    "def warmup2(lst):\n",
    "    \"\"\"\n",
    "    (list of positive int) -> (list of positive int)\n",
    "    \n",
    "    Given a list lst, sort lst in descending order\n",
    "    \n",
    "    warmup2([5, 1, 3, 4, 2]) => [5, 4, 3, 2, 1]\n",
    "    warmup2([0, 0, 0, 4, 0]) => [4, 0, 0, 0, 0]\n",
    "    warmup2([1]) => [1]\n",
    "    warmup2([]) => []\n",
    "    \"\"\"\n",
    "    return sorted(lst, reverse = True)\n",
    "    "
   ]
  },
  {
   "cell_type": "code",
   "execution_count": 16,
   "metadata": {},
   "outputs": [
    {
     "data": {
      "text/plain": [
       "[4, 0, 0, 0, 0]"
      ]
     },
     "execution_count": 16,
     "metadata": {},
     "output_type": "execute_result"
    }
   ],
   "source": [
    "warmup2([0,0,0,4,0])"
   ]
  },
  {
   "cell_type": "markdown",
   "metadata": {},
   "source": [
    "Optional Warmup 3: length check\n",
    "Given a number N and a sequence of answers, return true if N is greater than the number of answers (i.e. the length of the sequence), and false if N is less than or equal to the number of answers. For instance, given 7 and [6, 5, 5, 3, 2, 2, 2], you would return false, because 7 is less than or equal to 7."
   ]
  },
  {
   "cell_type": "code",
   "execution_count": 17,
   "metadata": {},
   "outputs": [],
   "source": [
    "def warmup3(N, lst):\n",
    "    \"\"\"\n",
    "    (positive int, list of positive int) -> Boo\n",
    "    \n",
    "    Return True if N is greater than the length of lst\n",
    "    \n",
    "    warmup3(7, [6, 5, 5, 3, 2, 2, 2]) => false\n",
    "    warmup3(5, [5, 5, 5, 5, 5]) => false\n",
    "    warmup3(5, [5, 5, 5, 5]) => true\n",
    "    warmup3(3, [1, 1]) => true\n",
    "    warmup3(1, []) => true\n",
    "    warmup3(0, []) => false\n",
    "    \"\"\"\n",
    "    return N > len(lst)\n",
    "    "
   ]
  },
  {
   "cell_type": "code",
   "execution_count": 21,
   "metadata": {},
   "outputs": [
    {
     "data": {
      "text/plain": [
       "True"
      ]
     },
     "execution_count": 21,
     "metadata": {},
     "output_type": "execute_result"
    }
   ],
   "source": [
    "warmup3(1, [])"
   ]
  },
  {
   "cell_type": "markdown",
   "metadata": {},
   "source": [
    "Optional Warmup 4: front elimination\n",
    "Given a number N and a sequence in descending order, subtract 1 from each of the first N answers in the sequence, and return the result. For instance, given N = 4 and the sequence [5, 4, 3, 2, 1], you would subtract 1 from each of the first 4 answers (5, 4, 3, and 2) to get 4, 3, 2, and 1. The rest of the sequence (1) would not be affected:"
   ]
  },
  {
   "cell_type": "code",
   "execution_count": 22,
   "metadata": {},
   "outputs": [],
   "source": [
    "def warmup4(N, lst):\n",
    "    \"\"\"\n",
    "    (positive int, list of positive int) -> list\n",
    "\n",
    "    Subtract 1 from the first N items in lst. Precondition: N is smaller than the length of lst.\n",
    "    \n",
    "    warmup4(4, [5, 4, 3, 2, 1]) => [4, 3, 2, 1, 1]\n",
    "    warmup4(11, [14, 13, 13, 13, 12, 10, 8, 8, 7, 7, 6, 6, 4, 4, 2]) => [13, 12, 12, 12, 11, 9, 7, 7, 6, 6, 5, 6, 4, 4, 2]\n",
    "    warmup4(1, [10, 10, 10]) => [9, 10, 10]\n",
    "    warmup4(3, [10, 10, 10]) => [9, 9, 9]\n",
    "    warmup4(1, [1]) => [0]\n",
    "    \"\"\"\n",
    "    sorted_list = warmup2(lst)\n",
    "    for i in range(N):\n",
    "        sorted_list[i] = sorted_list[i] - 1\n",
    "    return sorted_list\n",
    "    "
   ]
  },
  {
   "cell_type": "code",
   "execution_count": 25,
   "metadata": {},
   "outputs": [
    {
     "data": {
      "text/plain": [
       "[5, 4, 3, 2, 1]"
      ]
     },
     "execution_count": 25,
     "metadata": {},
     "output_type": "execute_result"
    }
   ],
   "source": [
    "warmup4(0, [5, 4, 3, 2, 1])"
   ]
  },
  {
   "cell_type": "markdown",
   "metadata": {},
   "source": [
    "Challenge: the Havel-Hakimi algorithm\n",
    "Perform the Havel-Hakimi algorithm on a given sequence of answers. This algorithm will return true if the answers are consistent (i.e. it's possible that everyone is telling the truth) and false if the answers are inconsistent (i.e. someone must be lying):\n",
    "\n",
    "Remove all 0's from the sequence (i.e. warmup1).\n",
    "If the sequence is now empty (no elements left), stop and return true.\n",
    "Sort the sequence in descending order (i.e. warmup2).\n",
    "Remove the first answer (which is also the largest answer, or tied for the largest) from the sequence and call it N. The sequence is now 1 shorter than it was after the previous step.\n",
    "If N is greater than the length of this new sequence (i.e. warmup3), stop and return false.\n",
    "Subtract 1 from each of the first N elements of the new sequence (i.e. warmup4).\n",
    "Continue from step 1 using the sequence from the previous step.\n",
    "Eventually you'll either return true in step 2, or false in step 5.\n",
    "\n",
    "You don't have to follow these steps exactly: as long as you return the right answer, that's fine. Also, if you answered the warmup questions, you may use your warmup solutions to build your challenge solution, but you don't have to."
   ]
  },
  {
   "cell_type": "code",
   "execution_count": 37,
   "metadata": {},
   "outputs": [],
   "source": [
    "def hh(lst):\n",
    "    \"\"\"\n",
    "    (list of positive int) -> Boo\n",
    "    \n",
    "    Return True if the answers are consistent\n",
    "    hh([5, 3, 0, 2, 6, 2, 0, 7, 2, 5]) => false\n",
    "    hh([4, 2, 0, 1, 5, 0]) => false\n",
    "    hh([3, 1, 2, 3, 1, 0]) => true\n",
    "    hh([16, 9, 9, 15, 9, 7, 9, 11, 17, 11, 4, 9, 12, 14, 14, 12, 17, 0, 3, 16]) => true\n",
    "    hh([14, 10, 17, 13, 4, 8, 6, 7, 13, 13, 17, 18, 8, 17, 2, 14, 6, 4, 7, 12]) => true\n",
    "    hh([15, 18, 6, 13, 12, 4, 4, 14, 1, 6, 18, 2, 6, 16, 0, 9, 10, 7, 12, 3]) => false\n",
    "    hh([6, 0, 10, 10, 10, 5, 8, 3, 0, 14, 16, 2, 13, 1, 2, 13, 6, 15, 5, 1]) => false\n",
    "    hh([2, 2, 0]) => false\n",
    "    hh([3, 2, 1]) => false\n",
    "    hh([1, 1]) => true\n",
    "    hh([1]) => false\n",
    "    hh([]) => true\n",
    "    \"\"\"\n",
    "    lst = warmup1(lst) #remove zeros\n",
    "    \n",
    "    if len(lst) == 0:\n",
    "        return True\n",
    "    else:\n",
    "        lst = warmup2(lst) #sort list in descending order\n",
    "        ans = True\n",
    "        while len(lst) > 0: #Unless False, the while loop will keep deleting and comparing N with the len of new list until it is empty\n",
    "            N = lst[0]\n",
    "            del lst[0]\n",
    "            if warmup3(N, lst) == True:\n",
    "                return False\n",
    "            else:\n",
    "                lst = warmup4(N, lst)\n",
    "        return True\n",
    "    "
   ]
  },
  {
   "cell_type": "code",
   "execution_count": 38,
   "metadata": {},
   "outputs": [
    {
     "data": {
      "text/plain": [
       "True"
      ]
     },
     "execution_count": 38,
     "metadata": {},
     "output_type": "execute_result"
    }
   ],
   "source": [
    "hh([16, 9, 9, 15, 9, 7, 9, 11, 17, 11, 4, 9, 12, 14, 14, 12, 17, 0, 3, 16])"
   ]
  }
 ],
 "metadata": {
  "kernelspec": {
   "display_name": "Python 3",
   "language": "python",
   "name": "python3"
  },
  "language_info": {
   "codemirror_mode": {
    "name": "ipython",
    "version": 3
   },
   "file_extension": ".py",
   "mimetype": "text/x-python",
   "name": "python",
   "nbconvert_exporter": "python",
   "pygments_lexer": "ipython3",
   "version": "3.7.3"
  }
 },
 "nbformat": 4,
 "nbformat_minor": 2
}
